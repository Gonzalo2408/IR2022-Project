{
 "cells": [
  {
   "cell_type": "code",
   "execution_count": 5,
   "metadata": {},
   "outputs": [
    {
     "name": "stdout",
     "output_type": "stream",
     "text": [
      "50000\n"
     ]
    }
   ],
   "source": [
    "import xml.etree.ElementTree as ET \n",
    "\n",
    "DEV_QUERIES = 100\n",
    "TEST_QUERIES = 1000\n",
    "TRAIN_QUERIES = 100\n",
    "\n",
    "RUN_FILE = 'lm_jm.run'\n",
    "stats = {'dev': DEV_QUERIES, 'train':TRAIN_QUERIES, 'test':TEST_QUERIES}\n",
    "with open(RUN_FILE) as f:\n",
    "    file = f.readlines()\n",
    "\n",
    "print(len(file))"
   ]
  },
  {
   "cell_type": "code",
   "execution_count": 17,
   "metadata": {},
   "outputs": [
    {
     "name": "stdout",
     "output_type": "stream",
     "text": [
      "40\n",
      "10\n",
      "50\n",
      "3\n",
      "17\n",
      "1\n",
      "2\n",
      "4\n",
      "5\n",
      "6\n",
      "7\n",
      "8\n",
      "9\n",
      "11\n",
      "12\n",
      "15\n",
      "16\n",
      "18\n",
      "19\n",
      "20\n",
      "21\n",
      "22\n",
      "23\n",
      "24\n",
      "25\n",
      "26\n",
      "27\n",
      "28\n",
      "29\n",
      "30\n",
      "31\n",
      "32\n",
      "33\n",
      "35\n",
      "36\n",
      "37\n",
      "38\n",
      "39\n",
      "41\n",
      "43\n",
      "44\n",
      "45\n",
      "46\n",
      "48\n",
      "49\n",
      "47\n",
      "14\n",
      "13\n",
      "34\n",
      "42\n"
     ]
    }
   ],
   "source": [
    "# Pass the path of the xml document \n",
    "\n",
    "for key in stats.keys():\n",
    "    output = \"\"\n",
    "    iters = stats[key]\n",
    "    location = \"../TREC_COVID_TOPICS/\" + str(key) + \"_topics_v2.xml\"\n",
    "    tree = ET.parse(location)\n",
    "    for i in range(len(tree.getroot())):\n",
    "        query = tree.getroot()[i].attrib['number']\n",
    "        print(query)\n",
    "\n",
    "        # Find first line in run file that contains specific query id\n",
    "        # Add the amount of queries needed after that one to the output string\n",
    "        # Write output string to lm_jm_v2.run file\n",
    "\n",
    "\n",
    "    # open(f\"{key}_lm_jm_v2.run\", \"w\").write(output_str)"
   ]
  },
  {
   "cell_type": "code",
   "execution_count": null,
   "metadata": {},
   "outputs": [],
   "source": []
  }
 ],
 "metadata": {
  "kernelspec": {
   "display_name": "Python 2.7.18 64-bit",
   "language": "python",
   "name": "python3"
  },
  "language_info": {
   "codemirror_mode": {
    "name": "ipython",
    "version": 2
   },
   "file_extension": ".py",
   "mimetype": "text/x-python",
   "name": "python",
   "nbconvert_exporter": "python",
   "pygments_lexer": "ipython2",
   "version": "2.7.18"
  },
  "orig_nbformat": 4,
  "vscode": {
   "interpreter": {
    "hash": "767d51c1340bd893661ea55ea3124f6de3c7a262a8b4abca0554b478b1e2ff90"
   }
  }
 },
 "nbformat": 4,
 "nbformat_minor": 2
}
