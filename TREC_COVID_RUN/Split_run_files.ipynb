{
 "cells": [
  {
   "cell_type": "code",
   "execution_count": 5,
   "metadata": {},
   "outputs": [
    {
     "name": "stdout",
     "output_type": "stream",
     "text": [
      "50000\n"
     ]
    }
   ],
   "source": [
    "import xml.etree.ElementTree as ET \n",
    "\n",
    "DEV_QUERIES = 100\n",
    "TEST_QUERIES = 1000\n",
    "TRAIN_QUERIES = 100\n",
    "\n",
    "RUN_FILE = 'lm_jm.run'\n",
    "stats = {'dev': DEV_QUERIES, 'train':TRAIN_QUERIES, 'test':TEST_QUERIES}\n",
    "with open(RUN_FILE) as f:\n",
    "    file = f.readlines()\n",
    "\n",
    "print(len(file))"
   ]
  },
  {
   "cell_type": "code",
   "execution_count": 14,
   "metadata": {},
   "outputs": [
    {
     "ename": "SyntaxError",
     "evalue": "invalid syntax (<ipython-input-14-b79ac041c879>, line 8)",
     "output_type": "error",
     "traceback": [
      "\u001b[0;36m  File \u001b[0;32m\"<ipython-input-14-b79ac041c879>\"\u001b[0;36m, line \u001b[0;32m8\u001b[0m\n\u001b[0;31m    open(f\"{key}_lm_jm_v2.run\", \"w\").write(output_str)\u001b[0m\n\u001b[0m                             ^\u001b[0m\n\u001b[0;31mSyntaxError\u001b[0m\u001b[0;31m:\u001b[0m invalid syntax\n"
     ]
    }
   ],
   "source": [
    "# Pass the path of the xml document \n",
    "\n",
    "for key in stats.keys():\n",
    "    iters = \n",
    "    location = \"../TREC_COVID_TOPICS/\" + str(key) + \"_topics_v2.xml\"\n",
    "    tree = ET.parse(location)\n",
    "    break\n",
    "    # write results in a file\n",
    "    open(f\"{key}_lm_jm_v2.run\", \"w\").write(output_str)"
   ]
  },
  {
   "cell_type": "code",
   "execution_count": null,
   "metadata": {},
   "outputs": [],
   "source": []
  }
 ],
 "metadata": {
  "kernelspec": {
   "display_name": "Python 2.7.18 64-bit",
   "language": "python",
   "name": "python3"
  },
  "language_info": {
   "codemirror_mode": {
    "name": "ipython",
    "version": 2
   },
   "file_extension": ".py",
   "mimetype": "text/x-python",
   "name": "python",
   "nbconvert_exporter": "python",
   "pygments_lexer": "ipython2",
   "version": "2.7.18"
  },
  "orig_nbformat": 4,
  "vscode": {
   "interpreter": {
    "hash": "767d51c1340bd893661ea55ea3124f6de3c7a262a8b4abca0554b478b1e2ff90"
   }
  }
 },
 "nbformat": 4,
 "nbformat_minor": 2
}
